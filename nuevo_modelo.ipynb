{
  "cells": [
    {
      "cell_type": "code",
      "execution_count": 1,
      "metadata": {
        "id": "7rmF6-2P0r4j"
      },
      "outputs": [],
      "source": [
        "import pandas as pd\n",
        "import numpy as np\n",
        "from sklearn.preprocessing import StandardScaler, OneHotEncoder\n",
        "from sklearn.compose import make_column_transformer\n",
        "from sklearn.model_selection import train_test_split\n",
        "from sklearn.svm import SVC\n",
        "from sklearn.pipeline import make_pipeline"
      ]
    },
    {
      "cell_type": "code",
      "execution_count": 2,
      "metadata": {
        "colab": {
          "base_uri": "https://localhost:8080/",
          "height": 206
        },
        "id": "E8mxVmjo00HN",
        "outputId": "42284684-9e1c-451e-8a7e-d62f99758483"
      },
      "outputs": [
        {
          "data": {
            "text/html": [
              "<div>\n",
              "<style scoped>\n",
              "    .dataframe tbody tr th:only-of-type {\n",
              "        vertical-align: middle;\n",
              "    }\n",
              "\n",
              "    .dataframe tbody tr th {\n",
              "        vertical-align: top;\n",
              "    }\n",
              "\n",
              "    .dataframe thead th {\n",
              "        text-align: right;\n",
              "    }\n",
              "</style>\n",
              "<table border=\"1\" class=\"dataframe\">\n",
              "  <thead>\n",
              "    <tr style=\"text-align: right;\">\n",
              "      <th></th>\n",
              "      <th>StartDate</th>\n",
              "      <th>Type</th>\n",
              "      <th>CurrStreak</th>\n",
              "      <th>IsActive</th>\n",
              "    </tr>\n",
              "  </thead>\n",
              "  <tbody>\n",
              "    <tr>\n",
              "      <th>0</th>\n",
              "      <td>2024-10-01</td>\n",
              "      <td>Health &amp; Fitness</td>\n",
              "      <td>15</td>\n",
              "      <td>1</td>\n",
              "    </tr>\n",
              "    <tr>\n",
              "      <th>1</th>\n",
              "      <td>2024-10-02</td>\n",
              "      <td>Personal Development</td>\n",
              "      <td>8</td>\n",
              "      <td>1</td>\n",
              "    </tr>\n",
              "    <tr>\n",
              "      <th>2</th>\n",
              "      <td>2024-10-03</td>\n",
              "      <td>Productivity &amp; Time Management</td>\n",
              "      <td>12</td>\n",
              "      <td>1</td>\n",
              "    </tr>\n",
              "    <tr>\n",
              "      <th>3</th>\n",
              "      <td>2024-10-04</td>\n",
              "      <td>Social &amp; Relationships</td>\n",
              "      <td>3</td>\n",
              "      <td>0</td>\n",
              "    </tr>\n",
              "    <tr>\n",
              "      <th>4</th>\n",
              "      <td>2024-10-05</td>\n",
              "      <td>Financial Habits</td>\n",
              "      <td>7</td>\n",
              "      <td>0</td>\n",
              "    </tr>\n",
              "  </tbody>\n",
              "</table>\n",
              "</div>"
            ],
            "text/plain": [
              "    StartDate                            Type  CurrStreak  IsActive\n",
              "0  2024-10-01                Health & Fitness          15         1\n",
              "1  2024-10-02            Personal Development           8         1\n",
              "2  2024-10-03  Productivity & Time Management          12         1\n",
              "3  2024-10-04          Social & Relationships           3         0\n",
              "4  2024-10-05                Financial Habits           7         0"
            ]
          },
          "execution_count": 2,
          "metadata": {},
          "output_type": "execute_result"
        }
      ],
      "source": [
        "data = pd.read_csv(\"datos.csv\")\n",
        "data.head()"
      ]
    },
    {
      "cell_type": "code",
      "execution_count": 3,
      "metadata": {
        "colab": {
          "base_uri": "https://localhost:8080/"
        },
        "id": "kMs8V7rA0_GA",
        "outputId": "0ee407c6-6c84-49ea-e59a-39f676559061"
      },
      "outputs": [
        {
          "name": "stdout",
          "output_type": "stream",
          "text": [
            "<class 'pandas.core.frame.DataFrame'>\n",
            "RangeIndex: 33 entries, 0 to 32\n",
            "Data columns (total 4 columns):\n",
            " #   Column      Non-Null Count  Dtype \n",
            "---  ------      --------------  ----- \n",
            " 0   StartDate   33 non-null     object\n",
            " 1   Type        33 non-null     object\n",
            " 2   CurrStreak  33 non-null     int64 \n",
            " 3   IsActive    33 non-null     int64 \n",
            "dtypes: int64(2), object(2)\n",
            "memory usage: 1.2+ KB\n"
          ]
        }
      ],
      "source": [
        "data.info()"
      ]
    },
    {
      "cell_type": "code",
      "execution_count": 4,
      "metadata": {
        "id": "dA3K02o5dP2V"
      },
      "outputs": [],
      "source": [
        "data[\"StartDate\"] = pd.to_datetime(data[\"StartDate\"])"
      ]
    },
    {
      "cell_type": "code",
      "execution_count": 5,
      "metadata": {
        "id": "tN-ckE_n1Jah"
      },
      "outputs": [],
      "source": [
        "X = data.drop(columns = [\"IsActive\"])\n",
        "y = data[\"IsActive\"]"
      ]
    },
    {
      "cell_type": "code",
      "execution_count": 6,
      "metadata": {
        "id": "PctyfWMg1L7z"
      },
      "outputs": [],
      "source": [
        "pre_processing = make_column_transformer(\n",
        "    (StandardScaler(), X.select_dtypes(exclude=['datetime64'])),\n",
        "    remainder='passthrough'\n",
        ")"
      ]
    },
    {
      "cell_type": "code",
      "execution_count": 7,
      "metadata": {
        "id": "5QBK0jMw1NSA"
      },
      "outputs": [],
      "source": [
        "X_train, X_test, y_train, y_test = train_test_split(X, y, test_size = 0.30, random_state = 1234)"
      ]
    },
    {
      "cell_type": "code",
      "execution_count": 8,
      "metadata": {
        "id": "iCeXm-U71Ooq"
      },
      "outputs": [],
      "source": [
        "svm = SVC()"
      ]
    },
    {
      "cell_type": "code",
      "execution_count": 9,
      "metadata": {
        "colab": {
          "base_uri": "https://localhost:8080/"
        },
        "id": "Ve2ns_uSd-s8",
        "outputId": "09cf82f0-4fd6-406c-c973-cb2b0a9b4c70"
      },
      "outputs": [
        {
          "data": {
            "text/plain": [
              "0.8"
            ]
          },
          "execution_count": 9,
          "metadata": {},
          "output_type": "execute_result"
        }
      ],
      "source": [
        "pre_processing = make_column_transformer(\n",
        "    (StandardScaler(), X.select_dtypes(exclude=['datetime64', 'object']).columns),\n",
        "    remainder='drop' \n",
        ")\n",
        "\n",
        "svm_pipeline = make_pipeline(pre_processing, svm)\n",
        "\n",
        "svm_fitted = svm_pipeline.fit(X_train, y_train)\n",
        "\n",
        "svm_pipeline.score(X_test, y_test)"
      ]
    },
    {
      "cell_type": "code",
      "execution_count": 10,
      "metadata": {
        "id": "sclvsYbweKf5"
      },
      "outputs": [],
      "source": [
        "import pickle\n",
        "\n",
        "filename = 'svm_model.sav'\n",
        "pickle.dump(svm_fitted, open(filename, 'wb'))\n",
        "\n",
        "filename = 'pre_processing.sav'\n",
        "pickle.dump(pre_processing, open(filename, 'wb'))\n"
      ]
    },
    {
      "cell_type": "code",
      "execution_count": 11,
      "metadata": {
        "colab": {
          "base_uri": "https://localhost:8080/"
        },
        "id": "IzXyvrdbeSCs",
        "outputId": "1e4eb436-2bca-4f8a-88ac-e47642ce563a"
      },
      "outputs": [
        {
          "name": "stdout",
          "output_type": "stream",
          "text": [
            "Prediction: [1]\n"
          ]
        }
      ],
      "source": [
        "loaded_model = pickle.load(open('svm_model.sav', 'rb'))\n",
        "\n",
        "loaded_pre_processing = pickle.load(open('pre_processing.sav', 'rb'))\n",
        "\n",
        "random_instance = data.sample(n=1)\n",
        "\n",
        "random_instance_features = random_instance.drop(columns=[\"IsActive\"])\n",
        "\n",
        "prediction = loaded_model.predict(random_instance_features)\n",
        "\n",
        "print(f\"Prediction: {prediction}\")\n"
      ]
    },
    {
      "cell_type": "code",
      "execution_count": 12,
      "metadata": {
        "colab": {
          "base_uri": "https://localhost:8080/",
          "height": 89
        },
        "id": "5uVfm248enuQ",
        "outputId": "baa1ee3c-66d4-4943-9358-86f270df7d65"
      },
      "outputs": [
        {
          "data": {
            "text/html": [
              "<div>\n",
              "<style scoped>\n",
              "    .dataframe tbody tr th:only-of-type {\n",
              "        vertical-align: middle;\n",
              "    }\n",
              "\n",
              "    .dataframe tbody tr th {\n",
              "        vertical-align: top;\n",
              "    }\n",
              "\n",
              "    .dataframe thead th {\n",
              "        text-align: right;\n",
              "    }\n",
              "</style>\n",
              "<table border=\"1\" class=\"dataframe\">\n",
              "  <thead>\n",
              "    <tr style=\"text-align: right;\">\n",
              "      <th></th>\n",
              "      <th>StartDate</th>\n",
              "      <th>Type</th>\n",
              "      <th>CurrStreak</th>\n",
              "    </tr>\n",
              "  </thead>\n",
              "  <tbody>\n",
              "    <tr>\n",
              "      <th>19</th>\n",
              "      <td>2025-01-10</td>\n",
              "      <td>Spirituality &amp; Reflection</td>\n",
              "      <td>9</td>\n",
              "    </tr>\n",
              "  </tbody>\n",
              "</table>\n",
              "</div>"
            ],
            "text/plain": [
              "    StartDate                       Type  CurrStreak\n",
              "19 2025-01-10  Spirituality & Reflection           9"
            ]
          },
          "execution_count": 12,
          "metadata": {},
          "output_type": "execute_result"
        }
      ],
      "source": [
        "random_instance_features"
      ]
    }
  ],
  "metadata": {
    "colab": {
      "provenance": []
    },
    "kernelspec": {
      "display_name": "Python 3",
      "name": "python3"
    },
    "language_info": {
      "codemirror_mode": {
        "name": "ipython",
        "version": 3
      },
      "file_extension": ".py",
      "mimetype": "text/x-python",
      "name": "python",
      "nbconvert_exporter": "python",
      "pygments_lexer": "ipython3",
      "version": "3.10.7"
    }
  },
  "nbformat": 4,
  "nbformat_minor": 0
}
